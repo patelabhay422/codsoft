{
  "nbformat": 4,
  "nbformat_minor": 0,
  "metadata": {
    "colab": {
      "provenance": [],
      "authorship_tag": "ABX9TyOJIpUqSHyk3/cQWY7vjreP",
      "include_colab_link": true
    },
    "kernelspec": {
      "name": "python3",
      "display_name": "Python 3"
    },
    "language_info": {
      "name": "python"
    }
  },
  "cells": [
    {
      "cell_type": "markdown",
      "metadata": {
        "id": "view-in-github",
        "colab_type": "text"
      },
      "source": [
        "<a href=\"https://colab.research.google.com/github/patelabhay422/codsoft/blob/main/task2.ipynb\" target=\"_parent\"><img src=\"https://colab.research.google.com/assets/colab-badge.svg\" alt=\"Open In Colab\"/></a>"
      ]
    },
    {
      "cell_type": "code",
      "execution_count": 1,
      "metadata": {
        "colab": {
          "base_uri": "https://localhost:8080/"
        },
        "id": "h0wak5xvGLfi",
        "outputId": "10fa84b5-f069-4bab-d191-afb0787aa4c8"
      },
      "outputs": [
        {
          "output_type": "stream",
          "name": "stdout",
          "text": [
            "Welcome to the Command-Line Calculator!\n",
            "You can perform the following operations:\n",
            "add: Addition (+)\n",
            "sub: Subtraction (-)\n",
            "mul: Multiplication (*)\n",
            "div: Division (/)\n",
            "exit: Exit the calculator\n",
            "\n",
            "Enter operation (add, sub, mul, div) or 'exit' to quit: add\n",
            "Enter first number: 25\n",
            "Enter second number: 35\n",
            "The result of 25.0 add 35.0 is: 60.0\n",
            "\n",
            "Enter operation (add, sub, mul, div) or 'exit' to quit: exit\n",
            "Goodbye!\n"
          ]
        }
      ],
      "source": [
        "def add(x, y):\n",
        "    return x + y\n",
        "\n",
        "def subtract(x, y):\n",
        "    return x - y\n",
        "\n",
        "def multiply(x, y):\n",
        "    return x * y\n",
        "\n",
        "def divide(x, y):\n",
        "    if y == 0:\n",
        "        return \"Error! Division by zero.\"\n",
        "    else:\n",
        "        return x / y\n",
        "\n",
        "def main():\n",
        "    print(\"Welcome to the Command-Line Calculator!\")\n",
        "    print(\"You can perform the following operations:\")\n",
        "    print(\"add: Addition (+)\")\n",
        "    print(\"sub: Subtraction (-)\")\n",
        "    print(\"mul: Multiplication (*)\")\n",
        "    print(\"div: Division (/)\")\n",
        "    print(\"exit: Exit the calculator\")\n",
        "\n",
        "    while True:\n",
        "        # Prompt the user for the operation and numbers\n",
        "        operation = input(\"\\nEnter operation (add, sub, mul, div) or 'exit' to quit: \").strip().lower()\n",
        "\n",
        "        if operation == \"exit\":\n",
        "            print(\"Goodbye!\")\n",
        "            break\n",
        "\n",
        "        if operation not in ['add', 'sub', 'mul', 'div']:\n",
        "            print(\"Invalid operation! Please choose one of the following: add, sub, mul, div\")\n",
        "            continue\n",
        "\n",
        "        # Input numbers for the calculation\n",
        "        try:\n",
        "            num1 = float(input(\"Enter first number: \"))\n",
        "            num2 = float(input(\"Enter second number: \"))\n",
        "        except ValueError:\n",
        "            print(\"Invalid input! Please enter valid numbers.\")\n",
        "            continue\n",
        "\n",
        "        # Perform the calculation based on the user's input\n",
        "        if operation == 'add':\n",
        "            result = add(num1, num2)\n",
        "        elif operation == 'sub':\n",
        "            result = subtract(num1, num2)\n",
        "        elif operation == 'mul':\n",
        "            result = multiply(num1, num2)\n",
        "        elif operation == 'div':\n",
        "            result = divide(num1, num2)\n",
        "\n",
        "        # Display the result\n",
        "        print(f\"The result of {num1} {operation} {num2} is: {result}\")\n",
        "\n",
        "if __name__ == \"__main__\":\n",
        "    main()\n"
      ]
    }
  ]
}