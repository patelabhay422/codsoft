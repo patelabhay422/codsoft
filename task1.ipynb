{
  "nbformat": 4,
  "nbformat_minor": 0,
  "metadata": {
    "colab": {
      "provenance": [],
      "authorship_tag": "ABX9TyPNqpKDkdhV24GuNaAZ9EgO",
      "include_colab_link": true
    },
    "kernelspec": {
      "name": "python3",
      "display_name": "Python 3"
    },
    "language_info": {
      "name": "python"
    }
  },
  "cells": [
    {
      "cell_type": "markdown",
      "metadata": {
        "id": "view-in-github",
        "colab_type": "text"
      },
      "source": [
        "<a href=\"https://colab.research.google.com/github/patelabhay422/codsoft/blob/main/task1.ipynb\" target=\"_parent\"><img src=\"https://colab.research.google.com/assets/colab-badge.svg\" alt=\"Open In Colab\"/></a>"
      ]
    },
    {
      "cell_type": "code",
      "source": [
        "# CLI To-Do List Application\n",
        "\n",
        "tasks = []\n",
        "\n",
        "def add_task(task_name):\n",
        "    task = {\n",
        "        'task_name': task_name,\n",
        "        'completed': False\n",
        "    }\n",
        "    tasks.append(task)\n",
        "    print(f\"Task '{task_name}' added!\")\n",
        "\n",
        "def view_tasks():\n",
        "    if not tasks:\n",
        "        print(\"No tasks to show.\")\n",
        "        return\n",
        "    for idx, task in enumerate(tasks, 1):\n",
        "        status = \"Done\" if task['completed'] else \"Not Done\"\n",
        "        print(f\"{idx}. {task['task_name']} - {status}\")\n",
        "\n",
        "def mark_completed(task_id):\n",
        "    try:\n",
        "        task = tasks[task_id - 1]\n",
        "        task['completed'] = True\n",
        "        print(f\"Task '{task['task_name']}' marked as completed!\")\n",
        "    except IndexError:\n",
        "        print(\"Invalid task ID!\")\n",
        "\n",
        "def delete_task(task_id):\n",
        "    try:\n",
        "        task = tasks.pop(task_id - 1)\n",
        "        print(f\"Task '{task['task_name']}' deleted!\")\n",
        "    except IndexError:\n",
        "        print(\"Invalid task ID!\")\n",
        "\n",
        "def update_task(task_id, new_name):\n",
        "    try:\n",
        "        task = tasks[task_id - 1]\n",
        "        task['task_name'] = new_name\n",
        "        print(f\"Task '{task_id}' updated to '{new_name}'!\")\n",
        "    except IndexError:\n",
        "        print(\"Invalid task ID!\")\n",
        "\n",
        "def main():\n",
        "    while True:\n",
        "        print(\"\\nTo-Do List Application\")\n",
        "        print(\"1. Add Task\")\n",
        "        print(\"2. View Tasks\")\n",
        "        print(\"3. Mark Task as Completed\")\n",
        "        print(\"4. Delete Task\")\n",
        "        print(\"5. Update Task\")\n",
        "        print(\"6. Exit\")\n",
        "\n",
        "        choice = input(\"Choose an option: \")\n",
        "\n",
        "        if choice == '1':\n",
        "            task_name = input(\"Enter the task name: \")\n",
        "            add_task(task_name)\n",
        "        elif choice == '2':\n",
        "            view_tasks()\n",
        "        elif choice == '3':\n",
        "            task_id = int(input(\"Enter task ID to mark as completed: \"))\n",
        "            mark_completed(task_id)\n",
        "        elif choice == '4':\n",
        "            task_id = int(input(\"Enter task ID to delete: \"))\n",
        "            delete_task(task_id)\n",
        "        elif choice == '5':\n",
        "            task_id = int(input(\"Enter task ID to update: \"))\n",
        "            new_name = input(\"Enter the new task name: \")\n",
        "            update_task(task_id, new_name)\n",
        "        elif choice == '6':\n",
        "            print(\"Goodbye!\")\n",
        "            break\n",
        "        else:\n",
        "            print(\"Invalid choice, please try again.\")\n",
        "\n",
        "if __name__ == \"__main__\":\n",
        "    main()\n"
      ],
      "metadata": {
        "colab": {
          "base_uri": "https://localhost:8080/"
        },
        "id": "15Wi3JigEQby",
        "outputId": "51ed9213-4948-4db7-cb2e-a8d3fe5c9a06"
      },
      "execution_count": null,
      "outputs": [
        {
          "metadata": {
            "tags": null
          },
          "name": "stdout",
          "output_type": "stream",
          "text": [
            "\n",
            "To-Do List Application\n",
            "1. Add Task\n",
            "2. View Tasks\n",
            "3. Mark Task as Completed\n",
            "4. Delete Task\n",
            "5. Update Task\n",
            "6. Exit\n",
            "Task 'cooking' added!\n",
            "\n",
            "To-Do List Application\n",
            "1. Add Task\n",
            "2. View Tasks\n",
            "3. Mark Task as Completed\n",
            "4. Delete Task\n",
            "5. Update Task\n",
            "6. Exit\n",
            "1. cooking - Not Done\n",
            "\n",
            "To-Do List Application\n",
            "1. Add Task\n",
            "2. View Tasks\n",
            "3. Mark Task as Completed\n",
            "4. Delete Task\n",
            "5. Update Task\n",
            "6. Exit\n"
          ]
        }
      ]
    }
  ]
}