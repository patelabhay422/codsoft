{
  "nbformat": 4,
  "nbformat_minor": 0,
  "metadata": {
    "colab": {
      "provenance": [],
      "authorship_tag": "ABX9TyPBrr1Xa7zXaDK0Q/oB5iJR",
      "include_colab_link": true
    },
    "kernelspec": {
      "name": "python3",
      "display_name": "Python 3"
    },
    "language_info": {
      "name": "python"
    }
  },
  "cells": [
    {
      "cell_type": "markdown",
      "metadata": {
        "id": "view-in-github",
        "colab_type": "text"
      },
      "source": [
        "<a href=\"https://colab.research.google.com/github/patelabhay422/codsoft/blob/main/task4.ipynb\" target=\"_parent\"><img src=\"https://colab.research.google.com/assets/colab-badge.svg\" alt=\"Open In Colab\"/></a>"
      ]
    },
    {
      "cell_type": "code",
      "execution_count": 1,
      "metadata": {
        "colab": {
          "base_uri": "https://localhost:8080/"
        },
        "id": "DkkoRDWBGzts",
        "outputId": "6c9481f8-ac37-473e-d8c7-c89be14aebe0"
      },
      "outputs": [
        {
          "output_type": "stream",
          "name": "stdout",
          "text": [
            "Welcome to Rock, Paper, Scissors!\n",
            "Instructions: Choose rock, paper, or scissors and compete against the computer.\n",
            "\n",
            "Choose rock, paper, or scissors: rock\n",
            "\n",
            "Your choice: rock\n",
            "Computer's choice: scissors\n",
            "You win!\n",
            "\n",
            "Current Score -> You: 1 | Computer: 0\n",
            "\n",
            "Do you want to play another round? (yes/no): no\n",
            "\n",
            "Thanks for playing!\n",
            "Final Score -> You: 1 | Computer: 0\n"
          ]
        }
      ],
      "source": [
        "import random\n",
        "\n",
        "# Function to determine the winner\n",
        "def determine_winner(user_choice, computer_choice):\n",
        "    if user_choice == computer_choice:\n",
        "        return \"It's a tie!\"\n",
        "    elif (user_choice == 'rock' and computer_choice == 'scissors') or \\\n",
        "         (user_choice == 'scissors' and computer_choice == 'paper') or \\\n",
        "         (user_choice == 'paper' and computer_choice == 'rock'):\n",
        "        return \"You win!\"\n",
        "    else:\n",
        "        return \"You lose!\"\n",
        "\n",
        "# Function to play a single round\n",
        "def play_round():\n",
        "    # Prompt the user to choose rock, paper, or scissors\n",
        "    user_choice = input(\"Choose rock, paper, or scissors: \").lower()\n",
        "    if user_choice not in ['rock', 'paper', 'scissors']:\n",
        "        print(\"Invalid input. Please choose rock, paper, or scissors.\")\n",
        "        return None, None\n",
        "\n",
        "    # Generate the computer's choice randomly\n",
        "    computer_choice = random.choice(['rock', 'paper', 'scissors'])\n",
        "\n",
        "    # Determine the winner\n",
        "    result = determine_winner(user_choice, computer_choice)\n",
        "\n",
        "    # Display the result\n",
        "    print(f\"\\nYour choice: {user_choice}\")\n",
        "    print(f\"Computer's choice: {computer_choice}\")\n",
        "    print(result)\n",
        "\n",
        "    return result, user_choice, computer_choice\n",
        "\n",
        "def main():\n",
        "    # Initialize scores\n",
        "    user_score = 0\n",
        "    computer_score = 0\n",
        "\n",
        "    print(\"Welcome to Rock, Paper, Scissors!\")\n",
        "    print(\"Instructions: Choose rock, paper, or scissors and compete against the computer.\\n\")\n",
        "\n",
        "    while True:\n",
        "        # Play a round\n",
        "        result, user_choice, computer_choice = play_round()\n",
        "\n",
        "        if result is None:\n",
        "            continue\n",
        "\n",
        "        # Update scores based on the result\n",
        "        if result == \"You win!\":\n",
        "            user_score += 1\n",
        "        elif result == \"You lose!\":\n",
        "            computer_score += 1\n",
        "\n",
        "        # Display current scores\n",
        "        print(f\"\\nCurrent Score -> You: {user_score} | Computer: {computer_score}\\n\")\n",
        "\n",
        "        # Ask if the user wants to play another round\n",
        "        play_again = input(\"Do you want to play another round? (yes/no): \").lower()\n",
        "        if play_again != 'yes':\n",
        "            print(\"\\nThanks for playing!\")\n",
        "            print(f\"Final Score -> You: {user_score} | Computer: {computer_score}\")\n",
        "            break\n",
        "\n",
        "if __name__ == \"__main__\":\n",
        "    main()\n"
      ]
    }
  ]
}